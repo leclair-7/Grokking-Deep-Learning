{
 "cells": [
  {
   "cell_type": "code",
   "execution_count": 1,
   "metadata": {},
   "outputs": [],
   "source": [
    "import matplotlib"
   ]
  },
  {
   "cell_type": "code",
   "execution_count": 5,
   "metadata": {},
   "outputs": [
    {
     "name": "stdout",
     "output_type": "stream",
     "text": [
      "Error 0.20249999999999996 pred=0.44000000000000006\n",
      "Error 0.19762914802499992 pred=0.4454450000000001\n",
      "Error 0.1928754575263573 pred=0.45082411550000007\n",
      "Error 0.18823611034995585 pred=0.4561381437024501\n"
     ]
    }
   ],
   "source": [
    "weight = .4\n",
    "input = 1.1\n",
    "goal = .89\n",
    "alpha = .01\n",
    "\n",
    "def predict(input, weight, goal, alpha):\n",
    "    pred = input * weight\n",
    "    return pred\n",
    "    \n",
    "for i in range(4):\n",
    "    pred = predict(input, weight, goal, alpha)\n",
    "    # at this point error is to see how network is performing\n",
    "    error = (pred - goal) **2\n",
    "    delta = (pred - goal)\n",
    "    delta_weight = input * delta\n",
    "    #if I change weight how much is error going to change\n",
    "    derivative = delta_weight    \n",
    "    weight = weight - alpha * derivative\n",
    "    print( \"Error \" + str(error) + \" pred=\" + str(pred))"
   ]
  },
  {
   "cell_type": "code",
   "execution_count": null,
   "metadata": {},
   "outputs": [],
   "source": []
  }
 ],
 "metadata": {
  "kernelspec": {
   "display_name": "Python 3",
   "language": "python",
   "name": "python3"
  },
  "language_info": {
   "codemirror_mode": {
    "name": "ipython",
    "version": 3
   },
   "file_extension": ".py",
   "mimetype": "text/x-python",
   "name": "python",
   "nbconvert_exporter": "python",
   "pygments_lexer": "ipython3",
   "version": "3.6.8"
  }
 },
 "nbformat": 4,
 "nbformat_minor": 2
}
